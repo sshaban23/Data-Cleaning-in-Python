{
 "cells": [
  {
   "cell_type": "code",
   "execution_count": 1,
   "id": "19b32289",
   "metadata": {},
   "outputs": [],
   "source": [
    "#import all packages for assignment\n",
    "\n",
    "import pandas as pd\n",
    "import math \n",
    "import numpy as np\n",
    "import matplotlib.pyplot as plt\n",
    "import scipy.stats as stats\n",
    "import sklearn as sk\n",
    "from sklearn.decomposition import PCA\n",
    "from sklearn.impute import SimpleImputer\n",
    "import seaborn\n",
    "import os"
   ]
  },
  {
   "cell_type": "code",
   "execution_count": 2,
   "id": "9397aef1",
   "metadata": {},
   "outputs": [],
   "source": [
    "#changing the working directory to where my file is located\n",
    "os.chdir('C:/Users/siree/OneDrive/churn.dictionary.files')"
   ]
  },
  {
   "cell_type": "code",
   "execution_count": 3,
   "id": "3b5cb0dc",
   "metadata": {},
   "outputs": [
    {
     "name": "stdout",
     "output_type": "stream",
     "text": [
      "C:\\Users\\siree\\OneDrive\\Desktop\\WGU\\D206\\d206-churn.dictionary.files\n"
     ]
    }
   ],
   "source": [
    "#looking up my working directory\n",
    "cwd = os.getcwd()\n",
    "print(cwd)"
   ]
  },
  {
   "cell_type": "code",
   "execution_count": 4,
   "id": "7779c8f4",
   "metadata": {},
   "outputs": [],
   "source": [
    "#reading the CSV file\n",
    "df = pd.read_csv('churn_raw_data.csv')"
   ]
  },
  {
   "cell_type": "code",
   "execution_count": 5,
   "id": "639d96ea",
   "metadata": {},
   "outputs": [
    {
     "name": "stdout",
     "output_type": "stream",
     "text": [
      "<class 'pandas.core.frame.DataFrame'>\n",
      "RangeIndex: 10000 entries, 0 to 9999\n",
      "Data columns (total 52 columns):\n",
      " #   Column                Non-Null Count  Dtype  \n",
      "---  ------                --------------  -----  \n",
      " 0   Unnamed: 0            10000 non-null  int64  \n",
      " 1   CaseOrder             10000 non-null  int64  \n",
      " 2   Customer_id           10000 non-null  object \n",
      " 3   Interaction           10000 non-null  object \n",
      " 4   City                  10000 non-null  object \n",
      " 5   State                 10000 non-null  object \n",
      " 6   County                10000 non-null  object \n",
      " 7   Zip                   10000 non-null  int64  \n",
      " 8   Lat                   10000 non-null  float64\n",
      " 9   Lng                   10000 non-null  float64\n",
      " 10  Population            10000 non-null  int64  \n",
      " 11  Area                  10000 non-null  object \n",
      " 12  Timezone              10000 non-null  object \n",
      " 13  Job                   10000 non-null  object \n",
      " 14  Children              7505 non-null   float64\n",
      " 15  Age                   7525 non-null   float64\n",
      " 16  Education             10000 non-null  object \n",
      " 17  Employment            10000 non-null  object \n",
      " 18  Income                7510 non-null   float64\n",
      " 19  Marital               10000 non-null  object \n",
      " 20  Gender                10000 non-null  object \n",
      " 21  Churn                 10000 non-null  object \n",
      " 22  Outage_sec_perweek    10000 non-null  float64\n",
      " 23  Email                 10000 non-null  int64  \n",
      " 24  Contacts              10000 non-null  int64  \n",
      " 25  Yearly_equip_failure  10000 non-null  int64  \n",
      " 26  Techie                7523 non-null   object \n",
      " 27  Contract              10000 non-null  object \n",
      " 28  Port_modem            10000 non-null  object \n",
      " 29  Tablet                10000 non-null  object \n",
      " 30  InternetService       10000 non-null  object \n",
      " 31  Phone                 8974 non-null   object \n",
      " 32  Multiple              10000 non-null  object \n",
      " 33  OnlineSecurity        10000 non-null  object \n",
      " 34  OnlineBackup          10000 non-null  object \n",
      " 35  DeviceProtection      10000 non-null  object \n",
      " 36  TechSupport           9009 non-null   object \n",
      " 37  StreamingTV           10000 non-null  object \n",
      " 38  StreamingMovies       10000 non-null  object \n",
      " 39  PaperlessBilling      10000 non-null  object \n",
      " 40  PaymentMethod         10000 non-null  object \n",
      " 41  Tenure                9069 non-null   float64\n",
      " 42  MonthlyCharge         10000 non-null  float64\n",
      " 43  Bandwidth_GB_Year     8979 non-null   float64\n",
      " 44  item1                 10000 non-null  int64  \n",
      " 45  item2                 10000 non-null  int64  \n",
      " 46  item3                 10000 non-null  int64  \n",
      " 47  item4                 10000 non-null  int64  \n",
      " 48  item5                 10000 non-null  int64  \n",
      " 49  item6                 10000 non-null  int64  \n",
      " 50  item7                 10000 non-null  int64  \n",
      " 51  item8                 10000 non-null  int64  \n",
      "dtypes: float64(9), int64(15), object(28)\n",
      "memory usage: 4.0+ MB\n"
     ]
    }
   ],
   "source": [
    "#infomation about the data that is in the CSV file\n",
    "df.info()"
   ]
  },
  {
   "cell_type": "code",
   "execution_count": 6,
   "id": "e051398f",
   "metadata": {},
   "outputs": [
    {
     "name": "stdout",
     "output_type": "stream",
     "text": [
      "False    10000\n",
      "dtype: int64\n"
     ]
    }
   ],
   "source": [
    "#idenitifying the duplicates and the count of it\n",
    "df.duplicated()\n",
    "print(df.duplicated().value_counts())"
   ]
  },
  {
   "cell_type": "code",
   "execution_count": 7,
   "id": "7db41740",
   "metadata": {},
   "outputs": [
    {
     "data": {
      "text/plain": [
       "Unnamed: 0                 0\n",
       "CaseOrder                  0\n",
       "Customer_id                0\n",
       "Interaction                0\n",
       "City                       0\n",
       "State                      0\n",
       "County                     0\n",
       "Zip                        0\n",
       "Lat                        0\n",
       "Lng                        0\n",
       "Population                 0\n",
       "Area                       0\n",
       "Timezone                   0\n",
       "Job                        0\n",
       "Children                2495\n",
       "Age                     2475\n",
       "Education                  0\n",
       "Employment                 0\n",
       "Income                  2490\n",
       "Marital                    0\n",
       "Gender                     0\n",
       "Churn                      0\n",
       "Outage_sec_perweek         0\n",
       "Email                      0\n",
       "Contacts                   0\n",
       "Yearly_equip_failure       0\n",
       "Techie                  2477\n",
       "Contract                   0\n",
       "Port_modem                 0\n",
       "Tablet                     0\n",
       "InternetService            0\n",
       "Phone                   1026\n",
       "Multiple                   0\n",
       "OnlineSecurity             0\n",
       "OnlineBackup               0\n",
       "DeviceProtection           0\n",
       "TechSupport              991\n",
       "StreamingTV                0\n",
       "StreamingMovies            0\n",
       "PaperlessBilling           0\n",
       "PaymentMethod              0\n",
       "Tenure                   931\n",
       "MonthlyCharge              0\n",
       "Bandwidth_GB_Year       1021\n",
       "item1                      0\n",
       "item2                      0\n",
       "item3                      0\n",
       "item4                      0\n",
       "item5                      0\n",
       "item6                      0\n",
       "item7                      0\n",
       "item8                      0\n",
       "dtype: int64"
      ]
     },
     "execution_count": 7,
     "metadata": {},
     "output_type": "execute_result"
    }
   ],
   "source": [
    "#detecting the missing values\n",
    "df.isnull().sum()"
   ]
  },
  {
   "cell_type": "code",
   "execution_count": 8,
   "id": "aea8c7c7",
   "metadata": {},
   "outputs": [
    {
     "data": {
      "text/plain": [
       "Unnamed: 0              0\n",
       "CaseOrder               0\n",
       "Customer_id             0\n",
       "Interaction             0\n",
       "City                    0\n",
       "State                   0\n",
       "County                  0\n",
       "Zip                     0\n",
       "Lat                     0\n",
       "Lng                     0\n",
       "Population              0\n",
       "Area                    0\n",
       "Timezone                0\n",
       "Job                     0\n",
       "Children                0\n",
       "Age                     0\n",
       "Education               0\n",
       "Employment              0\n",
       "Income                  0\n",
       "Marital                 0\n",
       "Gender                  0\n",
       "Churn                   0\n",
       "Outage_sec_perweek      0\n",
       "Email                   0\n",
       "Contacts                0\n",
       "Yearly_equip_failure    0\n",
       "Techie                  0\n",
       "Contract                0\n",
       "Port_modem              0\n",
       "Tablet                  0\n",
       "InternetService         0\n",
       "Phone                   0\n",
       "Multiple                0\n",
       "OnlineSecurity          0\n",
       "OnlineBackup            0\n",
       "DeviceProtection        0\n",
       "TechSupport             0\n",
       "StreamingTV             0\n",
       "StreamingMovies         0\n",
       "PaperlessBilling        0\n",
       "PaymentMethod           0\n",
       "Tenure                  0\n",
       "MonthlyCharge           0\n",
       "Bandwidth_GB_Year       0\n",
       "item1                   0\n",
       "item2                   0\n",
       "item3                   0\n",
       "item4                   0\n",
       "item5                   0\n",
       "item6                   0\n",
       "item7                   0\n",
       "item8                   0\n",
       "dtype: int64"
      ]
     },
     "execution_count": 8,
     "metadata": {},
     "output_type": "execute_result"
    }
   ],
   "source": [
    "#cleaning the missing values\n",
    "df['Children'].fillna(int(df['Children'].median()), inplace = True)\n",
    "df['Age'].fillna(int(df['Age'].mean()), inplace = True)\n",
    "df['Income'].fillna(int(df['Income'].mean()), inplace = True)\n",
    "df['Techie'].fillna(df['Techie'].mode()[0], inplace = True)\n",
    "df['Phone'].fillna(df['Phone'].mode()[0], inplace = True)\n",
    "df['TechSupport'].fillna(df['TechSupport'].mode()[0], inplace = True)\n",
    "df['Tenure'].fillna(int(df['Tenure'].mean()), inplace = True)\n",
    "df['Bandwidth_GB_Year'].fillna(int(df['Bandwidth_GB_Year'].mean()), inplace = True)\n",
    "df.isnull().sum()"
   ]
  },
  {
   "cell_type": "code",
   "execution_count": 9,
   "id": "813ceba1",
   "metadata": {},
   "outputs": [
    {
     "data": {
      "text/plain": [
       "<bound method NDFrame.head of       Children  Z_Score_Children\n",
       "0          1.0         -0.427079\n",
       "1          1.0         -0.427079\n",
       "2          4.0          1.130655\n",
       "3          1.0         -0.427079\n",
       "4          0.0         -0.946323\n",
       "...        ...               ...\n",
       "9995       3.0          0.611410\n",
       "9996       4.0          1.130655\n",
       "9997       1.0         -0.427079\n",
       "9998       1.0         -0.427079\n",
       "9999       1.0         -0.427079\n",
       "\n",
       "[10000 rows x 2 columns]>"
      ]
     },
     "execution_count": 9,
     "metadata": {},
     "output_type": "execute_result"
    }
   ],
   "source": [
    "#creating zscore for income\n",
    "df['Z_Score_Children'] = stats.zscore(df['Children'])\n",
    "df[['Children', 'Z_Score_Children']].head"
   ]
  },
  {
   "cell_type": "code",
   "execution_count": 10,
   "id": "17745b93",
   "metadata": {},
   "outputs": [
    {
     "data": {
      "image/png": "[encoded data removed]",
      "text/plain": [
       "<Figure size 640x480 with 1 Axes>"
      ]
     },
     "metadata": {},
     "output_type": "display_data"
    }
   ],
   "source": [
    "#plotting histogram for Children\n",
    "plt.hist(df['Z_Score_Children'])\n",
    "plt.show()"
   ]
  },
  {
   "cell_type": "code",
   "execution_count": 11,
   "id": "89691f9d",
   "metadata": {},
   "outputs": [
    {
     "data": {
      "text/plain": [
       "<bound method NDFrame.head of        Age  Z_Score_Age\n",
       "0     68.0     0.821689\n",
       "1     27.0    -1.455765\n",
       "2     50.0    -0.178169\n",
       "3     48.0    -0.289264\n",
       "4     83.0     1.654904\n",
       "...    ...          ...\n",
       "9995  53.0    -0.011526\n",
       "9996  48.0    -0.289264\n",
       "9997  53.0    -0.011526\n",
       "9998  39.0    -0.789193\n",
       "9999  28.0    -1.400218\n",
       "\n",
       "[10000 rows x 2 columns]>"
      ]
     },
     "execution_count": 11,
     "metadata": {},
     "output_type": "execute_result"
    }
   ],
   "source": [
    "#creating zscore for Age\n",
    "df['Z_Score_Age'] = stats.zscore(df['Age'])\n",
    "df[['Age', 'Z_Score_Age']].head"
   ]
  },
  {
   "cell_type": "code",
   "execution_count": 12,
   "id": "b57c2712",
   "metadata": {},
   "outputs": [
    {
     "data": {
      "image/png": "[encoded data removed]",
      "text/plain": [
       "<Figure size 640x480 with 1 Axes>"
      ]
     },
     "metadata": {},
     "output_type": "display_data"
    }
   ],
   "source": [
    "#plotting histogram for Income\n",
    "plt.hist(df['Z_Score_Age'])\n",
    "plt.show()"
   ]
  },
  {
   "cell_type": "code",
   "execution_count": 13,
   "id": "6b860ee3",
   "metadata": {},
   "outputs": [
    {
     "data": {
      "text/plain": [
       "<bound method NDFrame.head of         Income  Z_Score_Income\n",
       "0     28561.99       -0.462873\n",
       "1     21704.77       -0.741918\n",
       "2     39936.00       -0.000023\n",
       "3     18925.23       -0.855027\n",
       "4     40074.19        0.005600\n",
       "...        ...             ...\n",
       "9995  55723.74        0.642437\n",
       "9996  39936.00       -0.000023\n",
       "9997  39936.00       -0.000023\n",
       "9998  16667.58       -0.946899\n",
       "9999  39936.00       -0.000023\n",
       "\n",
       "[10000 rows x 2 columns]>"
      ]
     },
     "execution_count": 13,
     "metadata": {},
     "output_type": "execute_result"
    }
   ],
   "source": [
    "#creating zscore for income\n",
    "df['Z_Score_Income'] = stats.zscore(df['Income'])\n",
    "df[['Income', 'Z_Score_Income']].head"
   ]
  },
  {
   "cell_type": "code",
   "execution_count": 14,
   "id": "21187ccd",
   "metadata": {},
   "outputs": [
    {
     "data": {
      "image/png": "[encoded data removed]",
      "text/plain": [
       "<Figure size 640x480 with 1 Axes>"
      ]
     },
     "metadata": {},
     "output_type": "display_data"
    }
   ],
   "source": [
    "#plotting histogram for Income\n",
    "plt.hist(df['Z_Score_Income'])\n",
    "plt.show()"
   ]
  },
  {
   "cell_type": "code",
   "execution_count": 15,
   "id": "5ec28778",
   "metadata": {},
   "outputs": [
    {
     "data": {
      "image/png": "[encoded data removed]",
      "text/plain": [
       "<Figure size 640x480 with 1 Axes>"
      ]
     },
     "metadata": {},
     "output_type": "display_data"
    }
   ],
   "source": [
    "#boxplot of Income\n",
    "boxplot = seaborn.boxplot(x = 'Income', data = df)"
   ]
  },
  {
   "cell_type": "code",
   "execution_count": 16,
   "id": "c4694abc",
   "metadata": {},
   "outputs": [
    {
     "name": "stdout",
     "output_type": "stream",
     "text": [
      "<class 'pandas.core.frame.DataFrame'>\n",
      "Int64Index: 1250 entries, 12 to 9987\n",
      "Data columns (total 55 columns):\n",
      " #   Column                Non-Null Count  Dtype  \n",
      "---  ------                --------------  -----  \n",
      " 0   Unnamed: 0            1250 non-null   int64  \n",
      " 1   CaseOrder             1250 non-null   int64  \n",
      " 2   Customer_id           1250 non-null   object \n",
      " 3   Interaction           1250 non-null   object \n",
      " 4   City                  1250 non-null   object \n",
      " 5   State                 1250 non-null   object \n",
      " 6   County                1250 non-null   object \n",
      " 7   Zip                   1250 non-null   int64  \n",
      " 8   Lat                   1250 non-null   float64\n",
      " 9   Lng                   1250 non-null   float64\n",
      " 10  Population            1250 non-null   int64  \n",
      " 11  Area                  1250 non-null   object \n",
      " 12  Timezone              1250 non-null   object \n",
      " 13  Job                   1250 non-null   object \n",
      " 14  Children              1250 non-null   float64\n",
      " 15  Age                   1250 non-null   float64\n",
      " 16  Education             1250 non-null   object \n",
      " 17  Employment            1250 non-null   object \n",
      " 18  Income                1250 non-null   float64\n",
      " 19  Marital               1250 non-null   object \n",
      " 20  Gender                1250 non-null   object \n",
      " 21  Churn                 1250 non-null   object \n",
      " 22  Outage_sec_perweek    1250 non-null   float64\n",
      " 23  Email                 1250 non-null   int64  \n",
      " 24  Contacts              1250 non-null   int64  \n",
      " 25  Yearly_equip_failure  1250 non-null   int64  \n",
      " 26  Techie                1250 non-null   object \n",
      " 27  Contract              1250 non-null   object \n",
      " 28  Port_modem            1250 non-null   object \n",
      " 29  Tablet                1250 non-null   object \n",
      " 30  InternetService       1250 non-null   object \n",
      " 31  Phone                 1250 non-null   object \n",
      " 32  Multiple              1250 non-null   object \n",
      " 33  OnlineSecurity        1250 non-null   object \n",
      " 34  OnlineBackup          1250 non-null   object \n",
      " 35  DeviceProtection      1250 non-null   object \n",
      " 36  TechSupport           1250 non-null   object \n",
      " 37  StreamingTV           1250 non-null   object \n",
      " 38  StreamingMovies       1250 non-null   object \n",
      " 39  PaperlessBilling      1250 non-null   object \n",
      " 40  PaymentMethod         1250 non-null   object \n",
      " 41  Tenure                1250 non-null   float64\n",
      " 42  MonthlyCharge         1250 non-null   float64\n",
      " 43  Bandwidth_GB_Year     1250 non-null   float64\n",
      " 44  item1                 1250 non-null   int64  \n",
      " 45  item2                 1250 non-null   int64  \n",
      " 46  item3                 1250 non-null   int64  \n",
      " 47  item4                 1250 non-null   int64  \n",
      " 48  item5                 1250 non-null   int64  \n",
      " 49  item6                 1250 non-null   int64  \n",
      " 50  item7                 1250 non-null   int64  \n",
      " 51  item8                 1250 non-null   int64  \n",
      " 52  Z_Score_Children      1250 non-null   float64\n",
      " 53  Z_Score_Age           1250 non-null   float64\n",
      " 54  Z_Score_Income        1250 non-null   float64\n",
      "dtypes: float64(12), int64(15), object(28)\n",
      "memory usage: 546.9+ KB\n"
     ]
    }
   ],
   "source": [
    "#Income query information\n",
    "income_query = df.query('Income > 65000' )\n",
    "income_query.info()"
   ]
  },
  {
   "cell_type": "code",
   "execution_count": 17,
   "id": "cd207680",
   "metadata": {},
   "outputs": [
    {
     "name": "stdout",
     "output_type": "stream",
     "text": [
      "<class 'pandas.core.frame.DataFrame'>\n",
      "RangeIndex: 10000 entries, 0 to 9999\n",
      "Data columns (total 55 columns):\n",
      " #   Column                Non-Null Count  Dtype  \n",
      "---  ------                --------------  -----  \n",
      " 0   Unnamed: 0            10000 non-null  int64  \n",
      " 1   CaseOrder             10000 non-null  int64  \n",
      " 2   Customer_id           10000 non-null  object \n",
      " 3   Interaction           10000 non-null  object \n",
      " 4   City                  10000 non-null  object \n",
      " 5   State                 10000 non-null  object \n",
      " 6   County                10000 non-null  object \n",
      " 7   Zip                   10000 non-null  int64  \n",
      " 8   Lat                   10000 non-null  float64\n",
      " 9   Lng                   10000 non-null  float64\n",
      " 10  Population            10000 non-null  int64  \n",
      " 11  Area                  10000 non-null  object \n",
      " 12  Timezone              10000 non-null  object \n",
      " 13  Job                   10000 non-null  object \n",
      " 14  Children              10000 non-null  float64\n",
      " 15  Age                   10000 non-null  float64\n",
      " 16  Education             10000 non-null  object \n",
      " 17  Employment            10000 non-null  object \n",
      " 18  Income                8750 non-null   float64\n",
      " 19  Marital               10000 non-null  object \n",
      " 20  Gender                10000 non-null  object \n",
      " 21  Churn                 10000 non-null  object \n",
      " 22  Outage_sec_perweek    10000 non-null  float64\n",
      " 23  Email                 10000 non-null  int64  \n",
      " 24  Contacts              10000 non-null  int64  \n",
      " 25  Yearly_equip_failure  10000 non-null  int64  \n",
      " 26  Techie                10000 non-null  object \n",
      " 27  Contract              10000 non-null  object \n",
      " 28  Port_modem            10000 non-null  object \n",
      " 29  Tablet                10000 non-null  object \n",
      " 30  InternetService       10000 non-null  object \n",
      " 31  Phone                 10000 non-null  object \n",
      " 32  Multiple              10000 non-null  object \n",
      " 33  OnlineSecurity        10000 non-null  object \n",
      " 34  OnlineBackup          10000 non-null  object \n",
      " 35  DeviceProtection      10000 non-null  object \n",
      " 36  TechSupport           10000 non-null  object \n",
      " 37  StreamingTV           10000 non-null  object \n",
      " 38  StreamingMovies       10000 non-null  object \n",
      " 39  PaperlessBilling      10000 non-null  object \n",
      " 40  PaymentMethod         10000 non-null  object \n",
      " 41  Tenure                10000 non-null  float64\n",
      " 42  MonthlyCharge         10000 non-null  float64\n",
      " 43  Bandwidth_GB_Year     10000 non-null  float64\n",
      " 44  item1                 10000 non-null  int64  \n",
      " 45  item2                 10000 non-null  int64  \n",
      " 46  item3                 10000 non-null  int64  \n",
      " 47  item4                 10000 non-null  int64  \n",
      " 48  item5                 10000 non-null  int64  \n",
      " 49  item6                 10000 non-null  int64  \n",
      " 50  item7                 10000 non-null  int64  \n",
      " 51  item8                 10000 non-null  int64  \n",
      " 52  Z_Score_Children      10000 non-null  float64\n",
      " 53  Z_Score_Age           10000 non-null  float64\n",
      " 54  Z_Score_Income        10000 non-null  float64\n",
      "dtypes: float64(12), int64(15), object(28)\n",
      "memory usage: 4.2+ MB\n"
     ]
    }
   ],
   "source": [
    "df['Income'] = np.where(df['Income'] > 65000, np.nan, df['Income'])\n",
    "df.info()"
   ]
  },
  {
   "cell_type": "code",
   "execution_count": 18,
   "id": "919593e0",
   "metadata": {},
   "outputs": [
    {
     "name": "stdout",
     "output_type": "stream",
     "text": [
      "<class 'pandas.core.frame.DataFrame'>\n",
      "RangeIndex: 10000 entries, 0 to 9999\n",
      "Data columns (total 55 columns):\n",
      " #   Column                Non-Null Count  Dtype  \n",
      "---  ------                --------------  -----  \n",
      " 0   Unnamed: 0            10000 non-null  int64  \n",
      " 1   CaseOrder             10000 non-null  int64  \n",
      " 2   Customer_id           10000 non-null  object \n",
      " 3   Interaction           10000 non-null  object \n",
      " 4   City                  10000 non-null  object \n",
      " 5   State                 10000 non-null  object \n",
      " 6   County                10000 non-null  object \n",
      " 7   Zip                   10000 non-null  int64  \n",
      " 8   Lat                   10000 non-null  float64\n",
      " 9   Lng                   10000 non-null  float64\n",
      " 10  Population            10000 non-null  int64  \n",
      " 11  Area                  10000 non-null  object \n",
      " 12  Timezone              10000 non-null  object \n",
      " 13  Job                   10000 non-null  object \n",
      " 14  Children              10000 non-null  float64\n",
      " 15  Age                   10000 non-null  float64\n",
      " 16  Education             10000 non-null  object \n",
      " 17  Employment            10000 non-null  object \n",
      " 18  Income                10000 non-null  float64\n",
      " 19  Marital               10000 non-null  object \n",
      " 20  Gender                10000 non-null  object \n",
      " 21  Churn                 10000 non-null  object \n",
      " 22  Outage_sec_perweek    10000 non-null  float64\n",
      " 23  Email                 10000 non-null  int64  \n",
      " 24  Contacts              10000 non-null  int64  \n",
      " 25  Yearly_equip_failure  10000 non-null  int64  \n",
      " 26  Techie                10000 non-null  object \n",
      " 27  Contract              10000 non-null  object \n",
      " 28  Port_modem            10000 non-null  object \n",
      " 29  Tablet                10000 non-null  object \n",
      " 30  InternetService       10000 non-null  object \n",
      " 31  Phone                 10000 non-null  object \n",
      " 32  Multiple              10000 non-null  object \n",
      " 33  OnlineSecurity        10000 non-null  object \n",
      " 34  OnlineBackup          10000 non-null  object \n",
      " 35  DeviceProtection      10000 non-null  object \n",
      " 36  TechSupport           10000 non-null  object \n",
      " 37  StreamingTV           10000 non-null  object \n",
      " 38  StreamingMovies       10000 non-null  object \n",
      " 39  PaperlessBilling      10000 non-null  object \n",
      " 40  PaymentMethod         10000 non-null  object \n",
      " 41  Tenure                10000 non-null  float64\n",
      " 42  MonthlyCharge         10000 non-null  float64\n",
      " 43  Bandwidth_GB_Year     10000 non-null  float64\n",
      " 44  item1                 10000 non-null  int64  \n",
      " 45  item2                 10000 non-null  int64  \n",
      " 46  item3                 10000 non-null  int64  \n",
      " 47  item4                 10000 non-null  int64  \n",
      " 48  item5                 10000 non-null  int64  \n",
      " 49  item6                 10000 non-null  int64  \n",
      " 50  item7                 10000 non-null  int64  \n",
      " 51  item8                 10000 non-null  int64  \n",
      " 52  Z_Score_Children      10000 non-null  float64\n",
      " 53  Z_Score_Age           10000 non-null  float64\n",
      " 54  Z_Score_Income        10000 non-null  float64\n",
      "dtypes: float64(12), int64(15), object(28)\n",
      "memory usage: 4.2+ MB\n"
     ]
    }
   ],
   "source": [
    "df['Income'].fillna(df['Income'].median(), inplace = True)\n",
    "df.info()"
   ]
  },
  {
   "cell_type": "code",
   "execution_count": 19,
   "id": "88df2fd6",
   "metadata": {},
   "outputs": [
    {
     "data": {
      "image/png": "[encoded data removed]",
      "text/plain": [
       "<Figure size 640x480 with 1 Axes>"
      ]
     },
     "metadata": {},
     "output_type": "display_data"
    }
   ],
   "source": [
    "#boxplot of outliers with imputed results\n",
    "boxplot = seaborn.boxplot(x = 'Income', data = df)"
   ]
  },
  {
   "cell_type": "code",
   "execution_count": 20,
   "id": "19b455ba",
   "metadata": {},
   "outputs": [
    {
     "data": {
      "image/png": "[encoded data removed]",
      "text/plain": [
       "<Figure size 640x480 with 1 Axes>"
      ]
     },
     "metadata": {},
     "output_type": "display_data"
    }
   ],
   "source": [
    "#boxplot for Outage_sec_perweek\n",
    "boxplot = seaborn.boxplot(x = 'Outage_sec_perweek', data = df)"
   ]
  },
  {
   "cell_type": "code",
   "execution_count": 21,
   "id": "309f5219",
   "metadata": {},
   "outputs": [
    {
     "name": "stdout",
     "output_type": "stream",
     "text": [
      "<class 'pandas.core.frame.DataFrame'>\n",
      "Int64Index: 623 entries, 28 to 9981\n",
      "Data columns (total 55 columns):\n",
      " #   Column                Non-Null Count  Dtype  \n",
      "---  ------                --------------  -----  \n",
      " 0   Unnamed: 0            623 non-null    int64  \n",
      " 1   CaseOrder             623 non-null    int64  \n",
      " 2   Customer_id           623 non-null    object \n",
      " 3   Interaction           623 non-null    object \n",
      " 4   City                  623 non-null    object \n",
      " 5   State                 623 non-null    object \n",
      " 6   County                623 non-null    object \n",
      " 7   Zip                   623 non-null    int64  \n",
      " 8   Lat                   623 non-null    float64\n",
      " 9   Lng                   623 non-null    float64\n",
      " 10  Population            623 non-null    int64  \n",
      " 11  Area                  623 non-null    object \n",
      " 12  Timezone              623 non-null    object \n",
      " 13  Job                   623 non-null    object \n",
      " 14  Children              623 non-null    float64\n",
      " 15  Age                   623 non-null    float64\n",
      " 16  Education             623 non-null    object \n",
      " 17  Employment            623 non-null    object \n",
      " 18  Income                623 non-null    float64\n",
      " 19  Marital               623 non-null    object \n",
      " 20  Gender                623 non-null    object \n",
      " 21  Churn                 623 non-null    object \n",
      " 22  Outage_sec_perweek    623 non-null    float64\n",
      " 23  Email                 623 non-null    int64  \n",
      " 24  Contacts              623 non-null    int64  \n",
      " 25  Yearly_equip_failure  623 non-null    int64  \n",
      " 26  Techie                623 non-null    object \n",
      " 27  Contract              623 non-null    object \n",
      " 28  Port_modem            623 non-null    object \n",
      " 29  Tablet                623 non-null    object \n",
      " 30  InternetService       623 non-null    object \n",
      " 31  Phone                 623 non-null    object \n",
      " 32  Multiple              623 non-null    object \n",
      " 33  OnlineSecurity        623 non-null    object \n",
      " 34  OnlineBackup          623 non-null    object \n",
      " 35  DeviceProtection      623 non-null    object \n",
      " 36  TechSupport           623 non-null    object \n",
      " 37  StreamingTV           623 non-null    object \n",
      " 38  StreamingMovies       623 non-null    object \n",
      " 39  PaperlessBilling      623 non-null    object \n",
      " 40  PaymentMethod         623 non-null    object \n",
      " 41  Tenure                623 non-null    float64\n",
      " 42  MonthlyCharge         623 non-null    float64\n",
      " 43  Bandwidth_GB_Year     623 non-null    float64\n",
      " 44  item1                 623 non-null    int64  \n",
      " 45  item2                 623 non-null    int64  \n",
      " 46  item3                 623 non-null    int64  \n",
      " 47  item4                 623 non-null    int64  \n",
      " 48  item5                 623 non-null    int64  \n",
      " 49  item6                 623 non-null    int64  \n",
      " 50  item7                 623 non-null    int64  \n",
      " 51  item8                 623 non-null    int64  \n",
      " 52  Z_Score_Children      623 non-null    float64\n",
      " 53  Z_Score_Age           623 non-null    float64\n",
      " 54  Z_Score_Income        623 non-null    float64\n",
      "dtypes: float64(12), int64(15), object(28)\n",
      "memory usage: 272.6+ KB\n"
     ]
    }
   ],
   "source": [
    "#Outage_sec_perweek query information\n",
    "Outage_sec_perweek_query = df.query('Outage_sec_perweek > 17' )\n",
    "Outage_sec_perweek_query.info()"
   ]
  },
  {
   "cell_type": "code",
   "execution_count": 22,
   "id": "50c212c0",
   "metadata": {},
   "outputs": [
    {
     "name": "stdout",
     "output_type": "stream",
     "text": [
      "<class 'pandas.core.frame.DataFrame'>\n",
      "RangeIndex: 10000 entries, 0 to 9999\n",
      "Data columns (total 55 columns):\n",
      " #   Column                Non-Null Count  Dtype  \n",
      "---  ------                --------------  -----  \n",
      " 0   Unnamed: 0            10000 non-null  int64  \n",
      " 1   CaseOrder             10000 non-null  int64  \n",
      " 2   Customer_id           10000 non-null  object \n",
      " 3   Interaction           10000 non-null  object \n",
      " 4   City                  10000 non-null  object \n",
      " 5   State                 10000 non-null  object \n",
      " 6   County                10000 non-null  object \n",
      " 7   Zip                   10000 non-null  int64  \n",
      " 8   Lat                   10000 non-null  float64\n",
      " 9   Lng                   10000 non-null  float64\n",
      " 10  Population            10000 non-null  int64  \n",
      " 11  Area                  10000 non-null  object \n",
      " 12  Timezone              10000 non-null  object \n",
      " 13  Job                   10000 non-null  object \n",
      " 14  Children              10000 non-null  float64\n",
      " 15  Age                   10000 non-null  float64\n",
      " 16  Education             10000 non-null  object \n",
      " 17  Employment            10000 non-null  object \n",
      " 18  Income                10000 non-null  float64\n",
      " 19  Marital               10000 non-null  object \n",
      " 20  Gender                10000 non-null  object \n",
      " 21  Churn                 10000 non-null  object \n",
      " 22  Outage_sec_perweek    9304 non-null   float64\n",
      " 23  Email                 10000 non-null  int64  \n",
      " 24  Contacts              10000 non-null  int64  \n",
      " 25  Yearly_equip_failure  10000 non-null  int64  \n",
      " 26  Techie                10000 non-null  object \n",
      " 27  Contract              10000 non-null  object \n",
      " 28  Port_modem            10000 non-null  object \n",
      " 29  Tablet                10000 non-null  object \n",
      " 30  InternetService       10000 non-null  object \n",
      " 31  Phone                 10000 non-null  object \n",
      " 32  Multiple              10000 non-null  object \n",
      " 33  OnlineSecurity        10000 non-null  object \n",
      " 34  OnlineBackup          10000 non-null  object \n",
      " 35  DeviceProtection      10000 non-null  object \n",
      " 36  TechSupport           10000 non-null  object \n",
      " 37  StreamingTV           10000 non-null  object \n",
      " 38  StreamingMovies       10000 non-null  object \n",
      " 39  PaperlessBilling      10000 non-null  object \n",
      " 40  PaymentMethod         10000 non-null  object \n",
      " 41  Tenure                10000 non-null  float64\n",
      " 42  MonthlyCharge         10000 non-null  float64\n",
      " 43  Bandwidth_GB_Year     10000 non-null  float64\n",
      " 44  item1                 10000 non-null  int64  \n",
      " 45  item2                 10000 non-null  int64  \n",
      " 46  item3                 10000 non-null  int64  \n",
      " 47  item4                 10000 non-null  int64  \n",
      " 48  item5                 10000 non-null  int64  \n",
      " 49  item6                 10000 non-null  int64  \n",
      " 50  item7                 10000 non-null  int64  \n",
      " 51  item8                 10000 non-null  int64  \n",
      " 52  Z_Score_Children      10000 non-null  float64\n",
      " 53  Z_Score_Age           10000 non-null  float64\n",
      " 54  Z_Score_Income        10000 non-null  float64\n",
      "dtypes: float64(12), int64(15), object(28)\n",
      "memory usage: 4.2+ MB\n"
     ]
    }
   ],
   "source": [
    "df['Outage_sec_perweek'] = np.where((df['Outage_sec_perweek'] < 2.5) | (df['Outage_sec_perweek'] > 17), np.nan, df['Outage_sec_perweek'])\n",
    "df.info()"
   ]
  },
  {
   "cell_type": "code",
   "execution_count": 23,
   "id": "80f9a912",
   "metadata": {},
   "outputs": [
    {
     "name": "stdout",
     "output_type": "stream",
     "text": [
      "<class 'pandas.core.frame.DataFrame'>\n",
      "RangeIndex: 10000 entries, 0 to 9999\n",
      "Data columns (total 55 columns):\n",
      " #   Column                Non-Null Count  Dtype  \n",
      "---  ------                --------------  -----  \n",
      " 0   Unnamed: 0            10000 non-null  int64  \n",
      " 1   CaseOrder             10000 non-null  int64  \n",
      " 2   Customer_id           10000 non-null  object \n",
      " 3   Interaction           10000 non-null  object \n",
      " 4   City                  10000 non-null  object \n",
      " 5   State                 10000 non-null  object \n",
      " 6   County                10000 non-null  object \n",
      " 7   Zip                   10000 non-null  int64  \n",
      " 8   Lat                   10000 non-null  float64\n",
      " 9   Lng                   10000 non-null  float64\n",
      " 10  Population            10000 non-null  int64  \n",
      " 11  Area                  10000 non-null  object \n",
      " 12  Timezone              10000 non-null  object \n",
      " 13  Job                   10000 non-null  object \n",
      " 14  Children              10000 non-null  float64\n",
      " 15  Age                   10000 non-null  float64\n",
      " 16  Education             10000 non-null  object \n",
      " 17  Employment            10000 non-null  object \n",
      " 18  Income                10000 non-null  float64\n",
      " 19  Marital               10000 non-null  object \n",
      " 20  Gender                10000 non-null  object \n",
      " 21  Churn                 10000 non-null  object \n",
      " 22  Outage_sec_perweek    10000 non-null  float64\n",
      " 23  Email                 10000 non-null  int64  \n",
      " 24  Contacts              10000 non-null  int64  \n",
      " 25  Yearly_equip_failure  10000 non-null  int64  \n",
      " 26  Techie                10000 non-null  object \n",
      " 27  Contract              10000 non-null  object \n",
      " 28  Port_modem            10000 non-null  object \n",
      " 29  Tablet                10000 non-null  object \n",
      " 30  InternetService       10000 non-null  object \n",
      " 31  Phone                 10000 non-null  object \n",
      " 32  Multiple              10000 non-null  object \n",
      " 33  OnlineSecurity        10000 non-null  object \n",
      " 34  OnlineBackup          10000 non-null  object \n",
      " 35  DeviceProtection      10000 non-null  object \n",
      " 36  TechSupport           10000 non-null  object \n",
      " 37  StreamingTV           10000 non-null  object \n",
      " 38  StreamingMovies       10000 non-null  object \n",
      " 39  PaperlessBilling      10000 non-null  object \n",
      " 40  PaymentMethod         10000 non-null  object \n",
      " 41  Tenure                10000 non-null  float64\n",
      " 42  MonthlyCharge         10000 non-null  float64\n",
      " 43  Bandwidth_GB_Year     10000 non-null  float64\n",
      " 44  item1                 10000 non-null  int64  \n",
      " 45  item2                 10000 non-null  int64  \n",
      " 46  item3                 10000 non-null  int64  \n",
      " 47  item4                 10000 non-null  int64  \n",
      " 48  item5                 10000 non-null  int64  \n",
      " 49  item6                 10000 non-null  int64  \n",
      " 50  item7                 10000 non-null  int64  \n",
      " 51  item8                 10000 non-null  int64  \n",
      " 52  Z_Score_Children      10000 non-null  float64\n",
      " 53  Z_Score_Age           10000 non-null  float64\n",
      " 54  Z_Score_Income        10000 non-null  float64\n",
      "dtypes: float64(12), int64(15), object(28)\n",
      "memory usage: 4.2+ MB\n"
     ]
    }
   ],
   "source": [
    "df['Outage_sec_perweek'].fillna(df['Outage_sec_perweek'].median(), inplace = True)\n",
    "df.info()"
   ]
  },
  {
   "cell_type": "code",
   "execution_count": 24,
   "id": "c5c43301",
   "metadata": {},
   "outputs": [
    {
     "data": {
      "image/png": "[encoded data removed]",
      "text/plain": [
       "<Figure size 640x480 with 1 Axes>"
      ]
     },
     "metadata": {},
     "output_type": "display_data"
    }
   ],
   "source": [
    "boxplot = seaborn.boxplot(x = 'Outage_sec_perweek', data = df)"
   ]
  },
  {
   "cell_type": "code",
   "execution_count": 25,
   "id": "2858b952",
   "metadata": {},
   "outputs": [
    {
     "data": {
      "image/png": "[encoded data removed]",
      "text/plain": [
       "<Figure size 640x480 with 1 Axes>"
      ]
     },
     "metadata": {},
     "output_type": "display_data"
    }
   ],
   "source": [
    "#boxplot for Email\n",
    "boxplot = seaborn.boxplot(x = 'Email', data = df)"
   ]
  },
  {
   "cell_type": "code",
   "execution_count": 26,
   "id": "12f3c3da",
   "metadata": {},
   "outputs": [
    {
     "name": "stdout",
     "output_type": "stream",
     "text": [
      "<class 'pandas.core.frame.DataFrame'>\n",
      "Int64Index: 15 entries, 258 to 9475\n",
      "Data columns (total 55 columns):\n",
      " #   Column                Non-Null Count  Dtype  \n",
      "---  ------                --------------  -----  \n",
      " 0   Unnamed: 0            15 non-null     int64  \n",
      " 1   CaseOrder             15 non-null     int64  \n",
      " 2   Customer_id           15 non-null     object \n",
      " 3   Interaction           15 non-null     object \n",
      " 4   City                  15 non-null     object \n",
      " 5   State                 15 non-null     object \n",
      " 6   County                15 non-null     object \n",
      " 7   Zip                   15 non-null     int64  \n",
      " 8   Lat                   15 non-null     float64\n",
      " 9   Lng                   15 non-null     float64\n",
      " 10  Population            15 non-null     int64  \n",
      " 11  Area                  15 non-null     object \n",
      " 12  Timezone              15 non-null     object \n",
      " 13  Job                   15 non-null     object \n",
      " 14  Children              15 non-null     float64\n",
      " 15  Age                   15 non-null     float64\n",
      " 16  Education             15 non-null     object \n",
      " 17  Employment            15 non-null     object \n",
      " 18  Income                15 non-null     float64\n",
      " 19  Marital               15 non-null     object \n",
      " 20  Gender                15 non-null     object \n",
      " 21  Churn                 15 non-null     object \n",
      " 22  Outage_sec_perweek    15 non-null     float64\n",
      " 23  Email                 15 non-null     int64  \n",
      " 24  Contacts              15 non-null     int64  \n",
      " 25  Yearly_equip_failure  15 non-null     int64  \n",
      " 26  Techie                15 non-null     object \n",
      " 27  Contract              15 non-null     object \n",
      " 28  Port_modem            15 non-null     object \n",
      " 29  Tablet                15 non-null     object \n",
      " 30  InternetService       15 non-null     object \n",
      " 31  Phone                 15 non-null     object \n",
      " 32  Multiple              15 non-null     object \n",
      " 33  OnlineSecurity        15 non-null     object \n",
      " 34  OnlineBackup          15 non-null     object \n",
      " 35  DeviceProtection      15 non-null     object \n",
      " 36  TechSupport           15 non-null     object \n",
      " 37  StreamingTV           15 non-null     object \n",
      " 38  StreamingMovies       15 non-null     object \n",
      " 39  PaperlessBilling      15 non-null     object \n",
      " 40  PaymentMethod         15 non-null     object \n",
      " 41  Tenure                15 non-null     float64\n",
      " 42  MonthlyCharge         15 non-null     float64\n",
      " 43  Bandwidth_GB_Year     15 non-null     float64\n",
      " 44  item1                 15 non-null     int64  \n",
      " 45  item2                 15 non-null     int64  \n",
      " 46  item3                 15 non-null     int64  \n",
      " 47  item4                 15 non-null     int64  \n",
      " 48  item5                 15 non-null     int64  \n",
      " 49  item6                 15 non-null     int64  \n",
      " 50  item7                 15 non-null     int64  \n",
      " 51  item8                 15 non-null     int64  \n",
      " 52  Z_Score_Children      15 non-null     float64\n",
      " 53  Z_Score_Age           15 non-null     float64\n",
      " 54  Z_Score_Income        15 non-null     float64\n",
      "dtypes: float64(12), int64(15), object(28)\n",
      "memory usage: 6.6+ KB\n"
     ]
    }
   ],
   "source": [
    "#Email query information\n",
    "Email_query = df.query('Email > 20' )\n",
    "Email_query.info()"
   ]
  },
  {
   "cell_type": "code",
   "execution_count": 27,
   "id": "25fcad45",
   "metadata": {},
   "outputs": [
    {
     "name": "stdout",
     "output_type": "stream",
     "text": [
      "<class 'pandas.core.frame.DataFrame'>\n",
      "RangeIndex: 10000 entries, 0 to 9999\n",
      "Data columns (total 55 columns):\n",
      " #   Column                Non-Null Count  Dtype  \n",
      "---  ------                --------------  -----  \n",
      " 0   Unnamed: 0            10000 non-null  int64  \n",
      " 1   CaseOrder             10000 non-null  int64  \n",
      " 2   Customer_id           10000 non-null  object \n",
      " 3   Interaction           10000 non-null  object \n",
      " 4   City                  10000 non-null  object \n",
      " 5   State                 10000 non-null  object \n",
      " 6   County                10000 non-null  object \n",
      " 7   Zip                   10000 non-null  int64  \n",
      " 8   Lat                   10000 non-null  float64\n",
      " 9   Lng                   10000 non-null  float64\n",
      " 10  Population            10000 non-null  int64  \n",
      " 11  Area                  10000 non-null  object \n",
      " 12  Timezone              10000 non-null  object \n",
      " 13  Job                   10000 non-null  object \n",
      " 14  Children              10000 non-null  float64\n",
      " 15  Age                   10000 non-null  float64\n",
      " 16  Education             10000 non-null  object \n",
      " 17  Employment            10000 non-null  object \n",
      " 18  Income                10000 non-null  float64\n",
      " 19  Marital               10000 non-null  object \n",
      " 20  Gender                10000 non-null  object \n",
      " 21  Churn                 10000 non-null  object \n",
      " 22  Outage_sec_perweek    10000 non-null  float64\n",
      " 23  Email                 9962 non-null   float64\n",
      " 24  Contacts              10000 non-null  int64  \n",
      " 25  Yearly_equip_failure  10000 non-null  int64  \n",
      " 26  Techie                10000 non-null  object \n",
      " 27  Contract              10000 non-null  object \n",
      " 28  Port_modem            10000 non-null  object \n",
      " 29  Tablet                10000 non-null  object \n",
      " 30  InternetService       10000 non-null  object \n",
      " 31  Phone                 10000 non-null  object \n",
      " 32  Multiple              10000 non-null  object \n",
      " 33  OnlineSecurity        10000 non-null  object \n",
      " 34  OnlineBackup          10000 non-null  object \n",
      " 35  DeviceProtection      10000 non-null  object \n",
      " 36  TechSupport           10000 non-null  object \n",
      " 37  StreamingTV           10000 non-null  object \n",
      " 38  StreamingMovies       10000 non-null  object \n",
      " 39  PaperlessBilling      10000 non-null  object \n",
      " 40  PaymentMethod         10000 non-null  object \n",
      " 41  Tenure                10000 non-null  float64\n",
      " 42  MonthlyCharge         10000 non-null  float64\n",
      " 43  Bandwidth_GB_Year     10000 non-null  float64\n",
      " 44  item1                 10000 non-null  int64  \n",
      " 45  item2                 10000 non-null  int64  \n",
      " 46  item3                 10000 non-null  int64  \n",
      " 47  item4                 10000 non-null  int64  \n",
      " 48  item5                 10000 non-null  int64  \n",
      " 49  item6                 10000 non-null  int64  \n",
      " 50  item7                 10000 non-null  int64  \n",
      " 51  item8                 10000 non-null  int64  \n",
      " 52  Z_Score_Children      10000 non-null  float64\n",
      " 53  Z_Score_Age           10000 non-null  float64\n",
      " 54  Z_Score_Income        10000 non-null  float64\n",
      "dtypes: float64(13), int64(14), object(28)\n",
      "memory usage: 4.2+ MB\n"
     ]
    }
   ],
   "source": [
    "df['Email'] = np.where((df['Email'] > 20) | (df['Email'] < 4), np.nan, df['Email'])\n",
    "df.info()"
   ]
  },
  {
   "cell_type": "code",
   "execution_count": 28,
   "id": "5c631e18",
   "metadata": {},
   "outputs": [
    {
     "name": "stdout",
     "output_type": "stream",
     "text": [
      "<class 'pandas.core.frame.DataFrame'>\n",
      "RangeIndex: 10000 entries, 0 to 9999\n",
      "Data columns (total 55 columns):\n",
      " #   Column                Non-Null Count  Dtype  \n",
      "---  ------                --------------  -----  \n",
      " 0   Unnamed: 0            10000 non-null  int64  \n",
      " 1   CaseOrder             10000 non-null  int64  \n",
      " 2   Customer_id           10000 non-null  object \n",
      " 3   Interaction           10000 non-null  object \n",
      " 4   City                  10000 non-null  object \n",
      " 5   State                 10000 non-null  object \n",
      " 6   County                10000 non-null  object \n",
      " 7   Zip                   10000 non-null  int64  \n",
      " 8   Lat                   10000 non-null  float64\n",
      " 9   Lng                   10000 non-null  float64\n",
      " 10  Population            10000 non-null  int64  \n",
      " 11  Area                  10000 non-null  object \n",
      " 12  Timezone              10000 non-null  object \n",
      " 13  Job                   10000 non-null  object \n",
      " 14  Children              10000 non-null  float64\n",
      " 15  Age                   10000 non-null  float64\n",
      " 16  Education             10000 non-null  object \n",
      " 17  Employment            10000 non-null  object \n",
      " 18  Income                10000 non-null  float64\n",
      " 19  Marital               10000 non-null  object \n",
      " 20  Gender                10000 non-null  object \n",
      " 21  Churn                 10000 non-null  object \n",
      " 22  Outage_sec_perweek    10000 non-null  float64\n",
      " 23  Email                 10000 non-null  float64\n",
      " 24  Contacts              10000 non-null  int64  \n",
      " 25  Yearly_equip_failure  10000 non-null  int64  \n",
      " 26  Techie                10000 non-null  object \n",
      " 27  Contract              10000 non-null  object \n",
      " 28  Port_modem            10000 non-null  object \n",
      " 29  Tablet                10000 non-null  object \n",
      " 30  InternetService       10000 non-null  object \n",
      " 31  Phone                 10000 non-null  object \n",
      " 32  Multiple              10000 non-null  object \n",
      " 33  OnlineSecurity        10000 non-null  object \n",
      " 34  OnlineBackup          10000 non-null  object \n",
      " 35  DeviceProtection      10000 non-null  object \n",
      " 36  TechSupport           10000 non-null  object \n",
      " 37  StreamingTV           10000 non-null  object \n",
      " 38  StreamingMovies       10000 non-null  object \n",
      " 39  PaperlessBilling      10000 non-null  object \n",
      " 40  PaymentMethod         10000 non-null  object \n",
      " 41  Tenure                10000 non-null  float64\n",
      " 42  MonthlyCharge         10000 non-null  float64\n",
      " 43  Bandwidth_GB_Year     10000 non-null  float64\n",
      " 44  item1                 10000 non-null  int64  \n",
      " 45  item2                 10000 non-null  int64  \n",
      " 46  item3                 10000 non-null  int64  \n",
      " 47  item4                 10000 non-null  int64  \n",
      " 48  item5                 10000 non-null  int64  \n",
      " 49  item6                 10000 non-null  int64  \n",
      " 50  item7                 10000 non-null  int64  \n",
      " 51  item8                 10000 non-null  int64  \n",
      " 52  Z_Score_Children      10000 non-null  float64\n",
      " 53  Z_Score_Age           10000 non-null  float64\n",
      " 54  Z_Score_Income        10000 non-null  float64\n",
      "dtypes: float64(13), int64(14), object(28)\n",
      "memory usage: 4.2+ MB\n"
     ]
    }
   ],
   "source": [
    "df['Email'].fillna(df['Email'].median(), inplace = True)\n",
    "df.info()"
   ]
  },
  {
   "cell_type": "code",
   "execution_count": 29,
   "id": "db68fbfd",
   "metadata": {},
   "outputs": [
    {
     "data": {
      "image/png": "[encoded data removed]",
      "text/plain": [
       "<Figure size 640x480 with 1 Axes>"
      ]
     },
     "metadata": {},
     "output_type": "display_data"
    }
   ],
   "source": [
    "boxplot = seaborn.boxplot(x = 'Email', data = df)"
   ]
  },
  {
   "cell_type": "code",
   "execution_count": 30,
   "id": "13f2de66",
   "metadata": {},
   "outputs": [
    {
     "data": {
      "image/png": "[encoded data removed]",
      "text/plain": [
       "<Figure size 640x480 with 1 Axes>"
      ]
     },
     "metadata": {},
     "output_type": "display_data"
    }
   ],
   "source": [
    "#boxplot for Contacts\n",
    "boxplot = seaborn.boxplot(x = 'Contacts', data = df)"
   ]
  },
  {
   "cell_type": "code",
   "execution_count": 31,
   "id": "db35ca05",
   "metadata": {},
   "outputs": [
    {
     "name": "stdout",
     "output_type": "stream",
     "text": [
      "<class 'pandas.core.frame.DataFrame'>\n",
      "Int64Index: 8 entries, 426 to 9750\n",
      "Data columns (total 55 columns):\n",
      " #   Column                Non-Null Count  Dtype  \n",
      "---  ------                --------------  -----  \n",
      " 0   Unnamed: 0            8 non-null      int64  \n",
      " 1   CaseOrder             8 non-null      int64  \n",
      " 2   Customer_id           8 non-null      object \n",
      " 3   Interaction           8 non-null      object \n",
      " 4   City                  8 non-null      object \n",
      " 5   State                 8 non-null      object \n",
      " 6   County                8 non-null      object \n",
      " 7   Zip                   8 non-null      int64  \n",
      " 8   Lat                   8 non-null      float64\n",
      " 9   Lng                   8 non-null      float64\n",
      " 10  Population            8 non-null      int64  \n",
      " 11  Area                  8 non-null      object \n",
      " 12  Timezone              8 non-null      object \n",
      " 13  Job                   8 non-null      object \n",
      " 14  Children              8 non-null      float64\n",
      " 15  Age                   8 non-null      float64\n",
      " 16  Education             8 non-null      object \n",
      " 17  Employment            8 non-null      object \n",
      " 18  Income                8 non-null      float64\n",
      " 19  Marital               8 non-null      object \n",
      " 20  Gender                8 non-null      object \n",
      " 21  Churn                 8 non-null      object \n",
      " 22  Outage_sec_perweek    8 non-null      float64\n",
      " 23  Email                 8 non-null      float64\n",
      " 24  Contacts              8 non-null      int64  \n",
      " 25  Yearly_equip_failure  8 non-null      int64  \n",
      " 26  Techie                8 non-null      object \n",
      " 27  Contract              8 non-null      object \n",
      " 28  Port_modem            8 non-null      object \n",
      " 29  Tablet                8 non-null      object \n",
      " 30  InternetService       8 non-null      object \n",
      " 31  Phone                 8 non-null      object \n",
      " 32  Multiple              8 non-null      object \n",
      " 33  OnlineSecurity        8 non-null      object \n",
      " 34  OnlineBackup          8 non-null      object \n",
      " 35  DeviceProtection      8 non-null      object \n",
      " 36  TechSupport           8 non-null      object \n",
      " 37  StreamingTV           8 non-null      object \n",
      " 38  StreamingMovies       8 non-null      object \n",
      " 39  PaperlessBilling      8 non-null      object \n",
      " 40  PaymentMethod         8 non-null      object \n",
      " 41  Tenure                8 non-null      float64\n",
      " 42  MonthlyCharge         8 non-null      float64\n",
      " 43  Bandwidth_GB_Year     8 non-null      float64\n",
      " 44  item1                 8 non-null      int64  \n",
      " 45  item2                 8 non-null      int64  \n",
      " 46  item3                 8 non-null      int64  \n",
      " 47  item4                 8 non-null      int64  \n",
      " 48  item5                 8 non-null      int64  \n",
      " 49  item6                 8 non-null      int64  \n",
      " 50  item7                 8 non-null      int64  \n",
      " 51  item8                 8 non-null      int64  \n",
      " 52  Z_Score_Children      8 non-null      float64\n",
      " 53  Z_Score_Age           8 non-null      float64\n",
      " 54  Z_Score_Income        8 non-null      float64\n",
      "dtypes: float64(13), int64(14), object(28)\n",
      "memory usage: 3.5+ KB\n"
     ]
    }
   ],
   "source": [
    "#Contacts query information\n",
    "Contacts_query = df.query('Contacts > 5' )\n",
    "Contacts_query.info()"
   ]
  },
  {
   "cell_type": "code",
   "execution_count": 32,
   "id": "7b184e0b",
   "metadata": {},
   "outputs": [
    {
     "name": "stdout",
     "output_type": "stream",
     "text": [
      "<class 'pandas.core.frame.DataFrame'>\n",
      "RangeIndex: 10000 entries, 0 to 9999\n",
      "Data columns (total 55 columns):\n",
      " #   Column                Non-Null Count  Dtype  \n",
      "---  ------                --------------  -----  \n",
      " 0   Unnamed: 0            10000 non-null  int64  \n",
      " 1   CaseOrder             10000 non-null  int64  \n",
      " 2   Customer_id           10000 non-null  object \n",
      " 3   Interaction           10000 non-null  object \n",
      " 4   City                  10000 non-null  object \n",
      " 5   State                 10000 non-null  object \n",
      " 6   County                10000 non-null  object \n",
      " 7   Zip                   10000 non-null  int64  \n",
      " 8   Lat                   10000 non-null  float64\n",
      " 9   Lng                   10000 non-null  float64\n",
      " 10  Population            10000 non-null  int64  \n",
      " 11  Area                  10000 non-null  object \n",
      " 12  Timezone              10000 non-null  object \n",
      " 13  Job                   10000 non-null  object \n",
      " 14  Children              10000 non-null  float64\n",
      " 15  Age                   10000 non-null  float64\n",
      " 16  Education             10000 non-null  object \n",
      " 17  Employment            10000 non-null  object \n",
      " 18  Income                10000 non-null  float64\n",
      " 19  Marital               10000 non-null  object \n",
      " 20  Gender                10000 non-null  object \n",
      " 21  Churn                 10000 non-null  object \n",
      " 22  Outage_sec_perweek    10000 non-null  float64\n",
      " 23  Email                 10000 non-null  float64\n",
      " 24  Contacts              9992 non-null   float64\n",
      " 25  Yearly_equip_failure  10000 non-null  int64  \n",
      " 26  Techie                10000 non-null  object \n",
      " 27  Contract              10000 non-null  object \n",
      " 28  Port_modem            10000 non-null  object \n",
      " 29  Tablet                10000 non-null  object \n",
      " 30  InternetService       10000 non-null  object \n",
      " 31  Phone                 10000 non-null  object \n",
      " 32  Multiple              10000 non-null  object \n",
      " 33  OnlineSecurity        10000 non-null  object \n",
      " 34  OnlineBackup          10000 non-null  object \n",
      " 35  DeviceProtection      10000 non-null  object \n",
      " 36  TechSupport           10000 non-null  object \n",
      " 37  StreamingTV           10000 non-null  object \n",
      " 38  StreamingMovies       10000 non-null  object \n",
      " 39  PaperlessBilling      10000 non-null  object \n",
      " 40  PaymentMethod         10000 non-null  object \n",
      " 41  Tenure                10000 non-null  float64\n",
      " 42  MonthlyCharge         10000 non-null  float64\n",
      " 43  Bandwidth_GB_Year     10000 non-null  float64\n",
      " 44  item1                 10000 non-null  int64  \n",
      " 45  item2                 10000 non-null  int64  \n",
      " 46  item3                 10000 non-null  int64  \n",
      " 47  item4                 10000 non-null  int64  \n",
      " 48  item5                 10000 non-null  int64  \n",
      " 49  item6                 10000 non-null  int64  \n",
      " 50  item7                 10000 non-null  int64  \n",
      " 51  item8                 10000 non-null  int64  \n",
      " 52  Z_Score_Children      10000 non-null  float64\n",
      " 53  Z_Score_Age           10000 non-null  float64\n",
      " 54  Z_Score_Income        10000 non-null  float64\n",
      "dtypes: float64(14), int64(13), object(28)\n",
      "memory usage: 4.2+ MB\n"
     ]
    }
   ],
   "source": [
    "df['Contacts'] = np.where(df['Contacts'] > 5, np.nan, df['Contacts'])\n",
    "df.info()"
   ]
  },
  {
   "cell_type": "code",
   "execution_count": 33,
   "id": "cfd9a4e1",
   "metadata": {},
   "outputs": [
    {
     "name": "stdout",
     "output_type": "stream",
     "text": [
      "<class 'pandas.core.frame.DataFrame'>\n",
      "RangeIndex: 10000 entries, 0 to 9999\n",
      "Data columns (total 55 columns):\n",
      " #   Column                Non-Null Count  Dtype  \n",
      "---  ------                --------------  -----  \n",
      " 0   Unnamed: 0            10000 non-null  int64  \n",
      " 1   CaseOrder             10000 non-null  int64  \n",
      " 2   Customer_id           10000 non-null  object \n",
      " 3   Interaction           10000 non-null  object \n",
      " 4   City                  10000 non-null  object \n",
      " 5   State                 10000 non-null  object \n",
      " 6   County                10000 non-null  object \n",
      " 7   Zip                   10000 non-null  int64  \n",
      " 8   Lat                   10000 non-null  float64\n",
      " 9   Lng                   10000 non-null  float64\n",
      " 10  Population            10000 non-null  int64  \n",
      " 11  Area                  10000 non-null  object \n",
      " 12  Timezone              10000 non-null  object \n",
      " 13  Job                   10000 non-null  object \n",
      " 14  Children              10000 non-null  float64\n",
      " 15  Age                   10000 non-null  float64\n",
      " 16  Education             10000 non-null  object \n",
      " 17  Employment            10000 non-null  object \n",
      " 18  Income                10000 non-null  float64\n",
      " 19  Marital               10000 non-null  object \n",
      " 20  Gender                10000 non-null  object \n",
      " 21  Churn                 10000 non-null  object \n",
      " 22  Outage_sec_perweek    10000 non-null  float64\n",
      " 23  Email                 10000 non-null  float64\n",
      " 24  Contacts              10000 non-null  float64\n",
      " 25  Yearly_equip_failure  10000 non-null  int64  \n",
      " 26  Techie                10000 non-null  object \n",
      " 27  Contract              10000 non-null  object \n",
      " 28  Port_modem            10000 non-null  object \n",
      " 29  Tablet                10000 non-null  object \n",
      " 30  InternetService       10000 non-null  object \n",
      " 31  Phone                 10000 non-null  object \n",
      " 32  Multiple              10000 non-null  object \n",
      " 33  OnlineSecurity        10000 non-null  object \n",
      " 34  OnlineBackup          10000 non-null  object \n",
      " 35  DeviceProtection      10000 non-null  object \n",
      " 36  TechSupport           10000 non-null  object \n",
      " 37  StreamingTV           10000 non-null  object \n",
      " 38  StreamingMovies       10000 non-null  object \n",
      " 39  PaperlessBilling      10000 non-null  object \n",
      " 40  PaymentMethod         10000 non-null  object \n",
      " 41  Tenure                10000 non-null  float64\n",
      " 42  MonthlyCharge         10000 non-null  float64\n",
      " 43  Bandwidth_GB_Year     10000 non-null  float64\n",
      " 44  item1                 10000 non-null  int64  \n",
      " 45  item2                 10000 non-null  int64  \n",
      " 46  item3                 10000 non-null  int64  \n",
      " 47  item4                 10000 non-null  int64  \n",
      " 48  item5                 10000 non-null  int64  \n",
      " 49  item6                 10000 non-null  int64  \n",
      " 50  item7                 10000 non-null  int64  \n",
      " 51  item8                 10000 non-null  int64  \n",
      " 52  Z_Score_Children      10000 non-null  float64\n",
      " 53  Z_Score_Age           10000 non-null  float64\n",
      " 54  Z_Score_Income        10000 non-null  float64\n",
      "dtypes: float64(14), int64(13), object(28)\n",
      "memory usage: 4.2+ MB\n"
     ]
    }
   ],
   "source": [
    "df['Contacts'].fillna(df['Contacts'].median(), inplace = True)\n",
    "df.info()"
   ]
  },
  {
   "cell_type": "code",
   "execution_count": 34,
   "id": "5070e5bf",
   "metadata": {},
   "outputs": [
    {
     "data": {
      "image/png": "[encoded data removed]",
      "text/plain": [
       "<Figure size 640x480 with 1 Axes>"
      ]
     },
     "metadata": {},
     "output_type": "display_data"
    }
   ],
   "source": [
    "boxplot = seaborn.boxplot(x = 'Contacts', data = df)"
   ]
  },
  {
   "cell_type": "code",
   "execution_count": 35,
   "id": "d225911d",
   "metadata": {},
   "outputs": [
    {
     "data": {
      "image/png": "[encoded data removed]",
      "text/plain": [
       "<Figure size 640x480 with 1 Axes>"
      ]
     },
     "metadata": {},
     "output_type": "display_data"
    }
   ],
   "source": [
    "#boxplot for Yearly_equip_failure\n",
    "boxplot = seaborn.boxplot(x = 'Yearly_equip_failure', data = df)"
   ]
  },
  {
   "cell_type": "code",
   "execution_count": 36,
   "id": "46da479d",
   "metadata": {},
   "outputs": [
    {
     "name": "stdout",
     "output_type": "stream",
     "text": [
      "<class 'pandas.core.frame.DataFrame'>\n",
      "Int64Index: 94 entries, 8 to 9967\n",
      "Data columns (total 55 columns):\n",
      " #   Column                Non-Null Count  Dtype  \n",
      "---  ------                --------------  -----  \n",
      " 0   Unnamed: 0            94 non-null     int64  \n",
      " 1   CaseOrder             94 non-null     int64  \n",
      " 2   Customer_id           94 non-null     object \n",
      " 3   Interaction           94 non-null     object \n",
      " 4   City                  94 non-null     object \n",
      " 5   State                 94 non-null     object \n",
      " 6   County                94 non-null     object \n",
      " 7   Zip                   94 non-null     int64  \n",
      " 8   Lat                   94 non-null     float64\n",
      " 9   Lng                   94 non-null     float64\n",
      " 10  Population            94 non-null     int64  \n",
      " 11  Area                  94 non-null     object \n",
      " 12  Timezone              94 non-null     object \n",
      " 13  Job                   94 non-null     object \n",
      " 14  Children              94 non-null     float64\n",
      " 15  Age                   94 non-null     float64\n",
      " 16  Education             94 non-null     object \n",
      " 17  Employment            94 non-null     object \n",
      " 18  Income                94 non-null     float64\n",
      " 19  Marital               94 non-null     object \n",
      " 20  Gender                94 non-null     object \n",
      " 21  Churn                 94 non-null     object \n",
      " 22  Outage_sec_perweek    94 non-null     float64\n",
      " 23  Email                 94 non-null     float64\n",
      " 24  Contacts              94 non-null     float64\n",
      " 25  Yearly_equip_failure  94 non-null     int64  \n",
      " 26  Techie                94 non-null     object \n",
      " 27  Contract              94 non-null     object \n",
      " 28  Port_modem            94 non-null     object \n",
      " 29  Tablet                94 non-null     object \n",
      " 30  InternetService       94 non-null     object \n",
      " 31  Phone                 94 non-null     object \n",
      " 32  Multiple              94 non-null     object \n",
      " 33  OnlineSecurity        94 non-null     object \n",
      " 34  OnlineBackup          94 non-null     object \n",
      " 35  DeviceProtection      94 non-null     object \n",
      " 36  TechSupport           94 non-null     object \n",
      " 37  StreamingTV           94 non-null     object \n",
      " 38  StreamingMovies       94 non-null     object \n",
      " 39  PaperlessBilling      94 non-null     object \n",
      " 40  PaymentMethod         94 non-null     object \n",
      " 41  Tenure                94 non-null     float64\n",
      " 42  MonthlyCharge         94 non-null     float64\n",
      " 43  Bandwidth_GB_Year     94 non-null     float64\n",
      " 44  item1                 94 non-null     int64  \n",
      " 45  item2                 94 non-null     int64  \n",
      " 46  item3                 94 non-null     int64  \n",
      " 47  item4                 94 non-null     int64  \n",
      " 48  item5                 94 non-null     int64  \n",
      " 49  item6                 94 non-null     int64  \n",
      " 50  item7                 94 non-null     int64  \n",
      " 51  item8                 94 non-null     int64  \n",
      " 52  Z_Score_Children      94 non-null     float64\n",
      " 53  Z_Score_Age           94 non-null     float64\n",
      " 54  Z_Score_Income        94 non-null     float64\n",
      "dtypes: float64(14), int64(13), object(28)\n",
      "memory usage: 41.1+ KB\n"
     ]
    }
   ],
   "source": [
    "#Yearly_equip_failure query information\n",
    "Yearly_equip_failure_query = df.query('Yearly_equip_failure > 2' )\n",
    "Yearly_equip_failure_query.info()"
   ]
  },
  {
   "cell_type": "code",
   "execution_count": 37,
   "id": "af418238",
   "metadata": {},
   "outputs": [
    {
     "name": "stdout",
     "output_type": "stream",
     "text": [
      "<class 'pandas.core.frame.DataFrame'>\n",
      "RangeIndex: 10000 entries, 0 to 9999\n",
      "Data columns (total 55 columns):\n",
      " #   Column                Non-Null Count  Dtype  \n",
      "---  ------                --------------  -----  \n",
      " 0   Unnamed: 0            10000 non-null  int64  \n",
      " 1   CaseOrder             10000 non-null  int64  \n",
      " 2   Customer_id           10000 non-null  object \n",
      " 3   Interaction           10000 non-null  object \n",
      " 4   City                  10000 non-null  object \n",
      " 5   State                 10000 non-null  object \n",
      " 6   County                10000 non-null  object \n",
      " 7   Zip                   10000 non-null  int64  \n",
      " 8   Lat                   10000 non-null  float64\n",
      " 9   Lng                   10000 non-null  float64\n",
      " 10  Population            10000 non-null  int64  \n",
      " 11  Area                  10000 non-null  object \n",
      " 12  Timezone              10000 non-null  object \n",
      " 13  Job                   10000 non-null  object \n",
      " 14  Children              10000 non-null  float64\n",
      " 15  Age                   10000 non-null  float64\n",
      " 16  Education             10000 non-null  object \n",
      " 17  Employment            10000 non-null  object \n",
      " 18  Income                10000 non-null  float64\n",
      " 19  Marital               10000 non-null  object \n",
      " 20  Gender                10000 non-null  object \n",
      " 21  Churn                 10000 non-null  object \n",
      " 22  Outage_sec_perweek    10000 non-null  float64\n",
      " 23  Email                 10000 non-null  float64\n",
      " 24  Contacts              10000 non-null  float64\n",
      " 25  Yearly_equip_failure  9906 non-null   float64\n",
      " 26  Techie                10000 non-null  object \n",
      " 27  Contract              10000 non-null  object \n",
      " 28  Port_modem            10000 non-null  object \n",
      " 29  Tablet                10000 non-null  object \n",
      " 30  InternetService       10000 non-null  object \n",
      " 31  Phone                 10000 non-null  object \n",
      " 32  Multiple              10000 non-null  object \n",
      " 33  OnlineSecurity        10000 non-null  object \n",
      " 34  OnlineBackup          10000 non-null  object \n",
      " 35  DeviceProtection      10000 non-null  object \n",
      " 36  TechSupport           10000 non-null  object \n",
      " 37  StreamingTV           10000 non-null  object \n",
      " 38  StreamingMovies       10000 non-null  object \n",
      " 39  PaperlessBilling      10000 non-null  object \n",
      " 40  PaymentMethod         10000 non-null  object \n",
      " 41  Tenure                10000 non-null  float64\n",
      " 42  MonthlyCharge         10000 non-null  float64\n",
      " 43  Bandwidth_GB_Year     10000 non-null  float64\n",
      " 44  item1                 10000 non-null  int64  \n",
      " 45  item2                 10000 non-null  int64  \n",
      " 46  item3                 10000 non-null  int64  \n",
      " 47  item4                 10000 non-null  int64  \n",
      " 48  item5                 10000 non-null  int64  \n",
      " 49  item6                 10000 non-null  int64  \n",
      " 50  item7                 10000 non-null  int64  \n",
      " 51  item8                 10000 non-null  int64  \n",
      " 52  Z_Score_Children      10000 non-null  float64\n",
      " 53  Z_Score_Age           10000 non-null  float64\n",
      " 54  Z_Score_Income        10000 non-null  float64\n",
      "dtypes: float64(15), int64(12), object(28)\n",
      "memory usage: 4.2+ MB\n"
     ]
    }
   ],
   "source": [
    "df['Yearly_equip_failure'] = np.where(df['Yearly_equip_failure'] > 2, np.nan, df['Yearly_equip_failure'])\n",
    "df.info()"
   ]
  },
  {
   "cell_type": "code",
   "execution_count": 38,
   "id": "2fa1c9e4",
   "metadata": {},
   "outputs": [
    {
     "data": {
      "image/png": "[encoded data removed]",
      "text/plain": [
       "<Figure size 640x480 with 1 Axes>"
      ]
     },
     "metadata": {},
     "output_type": "display_data"
    }
   ],
   "source": [
    "boxplot = seaborn.boxplot(x = 'Yearly_equip_failure', data = df)"
   ]
  },
  {
   "cell_type": "code",
   "execution_count": 39,
   "id": "7e278f3b",
   "metadata": {},
   "outputs": [
    {
     "data": {
      "image/png": "[encoded data removed]",
      "text/plain": [
       "<Figure size 640x480 with 1 Axes>"
      ]
     },
     "metadata": {},
     "output_type": "display_data"
    }
   ],
   "source": [
    "#boxplot outliers for Tenure\n",
    "boxplot = seaborn.boxplot(x = 'Tenure', data = df)"
   ]
  },
  {
   "cell_type": "code",
   "execution_count": 40,
   "id": "6da33352",
   "metadata": {},
   "outputs": [
    {
     "data": {
      "image/png": "[encoded data removed]",
      "text/plain": [
       "<Figure size 640x480 with 1 Axes>"
      ]
     },
     "metadata": {},
     "output_type": "display_data"
    }
   ],
   "source": [
    "#boxplot for MonthlyCharge\n",
    "boxplot = seaborn.boxplot(x = 'MonthlyCharge', data = df)"
   ]
  },
  {
   "cell_type": "code",
   "execution_count": 41,
   "id": "19b9a704",
   "metadata": {},
   "outputs": [
    {
     "name": "stdout",
     "output_type": "stream",
     "text": [
      "<class 'pandas.core.frame.DataFrame'>\n",
      "Int64Index: 3 entries, 927 to 4700\n",
      "Data columns (total 55 columns):\n",
      " #   Column                Non-Null Count  Dtype  \n",
      "---  ------                --------------  -----  \n",
      " 0   Unnamed: 0            3 non-null      int64  \n",
      " 1   CaseOrder             3 non-null      int64  \n",
      " 2   Customer_id           3 non-null      object \n",
      " 3   Interaction           3 non-null      object \n",
      " 4   City                  3 non-null      object \n",
      " 5   State                 3 non-null      object \n",
      " 6   County                3 non-null      object \n",
      " 7   Zip                   3 non-null      int64  \n",
      " 8   Lat                   3 non-null      float64\n",
      " 9   Lng                   3 non-null      float64\n",
      " 10  Population            3 non-null      int64  \n",
      " 11  Area                  3 non-null      object \n",
      " 12  Timezone              3 non-null      object \n",
      " 13  Job                   3 non-null      object \n",
      " 14  Children              3 non-null      float64\n",
      " 15  Age                   3 non-null      float64\n",
      " 16  Education             3 non-null      object \n",
      " 17  Employment            3 non-null      object \n",
      " 18  Income                3 non-null      float64\n",
      " 19  Marital               3 non-null      object \n",
      " 20  Gender                3 non-null      object \n",
      " 21  Churn                 3 non-null      object \n",
      " 22  Outage_sec_perweek    3 non-null      float64\n",
      " 23  Email                 3 non-null      float64\n",
      " 24  Contacts              3 non-null      float64\n",
      " 25  Yearly_equip_failure  3 non-null      float64\n",
      " 26  Techie                3 non-null      object \n",
      " 27  Contract              3 non-null      object \n",
      " 28  Port_modem            3 non-null      object \n",
      " 29  Tablet                3 non-null      object \n",
      " 30  InternetService       3 non-null      object \n",
      " 31  Phone                 3 non-null      object \n",
      " 32  Multiple              3 non-null      object \n",
      " 33  OnlineSecurity        3 non-null      object \n",
      " 34  OnlineBackup          3 non-null      object \n",
      " 35  DeviceProtection      3 non-null      object \n",
      " 36  TechSupport           3 non-null      object \n",
      " 37  StreamingTV           3 non-null      object \n",
      " 38  StreamingMovies       3 non-null      object \n",
      " 39  PaperlessBilling      3 non-null      object \n",
      " 40  PaymentMethod         3 non-null      object \n",
      " 41  Tenure                3 non-null      float64\n",
      " 42  MonthlyCharge         3 non-null      float64\n",
      " 43  Bandwidth_GB_Year     3 non-null      float64\n",
      " 44  item1                 3 non-null      int64  \n",
      " 45  item2                 3 non-null      int64  \n",
      " 46  item3                 3 non-null      int64  \n",
      " 47  item4                 3 non-null      int64  \n",
      " 48  item5                 3 non-null      int64  \n",
      " 49  item6                 3 non-null      int64  \n",
      " 50  item7                 3 non-null      int64  \n",
      " 51  item8                 3 non-null      int64  \n",
      " 52  Z_Score_Children      3 non-null      float64\n",
      " 53  Z_Score_Age           3 non-null      float64\n",
      " 54  Z_Score_Income        3 non-null      float64\n",
      "dtypes: float64(15), int64(12), object(28)\n",
      "memory usage: 1.3+ KB\n"
     ]
    }
   ],
   "source": [
    "#MonthlyCharge query information\n",
    "MonthlyCharge_query = df.query('MonthlyCharge > 300' )\n",
    "MonthlyCharge_query.info()"
   ]
  },
  {
   "cell_type": "code",
   "execution_count": 42,
   "id": "4f2d6ebb",
   "metadata": {},
   "outputs": [
    {
     "name": "stdout",
     "output_type": "stream",
     "text": [
      "<class 'pandas.core.frame.DataFrame'>\n",
      "RangeIndex: 10000 entries, 0 to 9999\n",
      "Data columns (total 55 columns):\n",
      " #   Column                Non-Null Count  Dtype  \n",
      "---  ------                --------------  -----  \n",
      " 0   Unnamed: 0            10000 non-null  int64  \n",
      " 1   CaseOrder             10000 non-null  int64  \n",
      " 2   Customer_id           10000 non-null  object \n",
      " 3   Interaction           10000 non-null  object \n",
      " 4   City                  10000 non-null  object \n",
      " 5   State                 10000 non-null  object \n",
      " 6   County                10000 non-null  object \n",
      " 7   Zip                   10000 non-null  int64  \n",
      " 8   Lat                   10000 non-null  float64\n",
      " 9   Lng                   10000 non-null  float64\n",
      " 10  Population            10000 non-null  int64  \n",
      " 11  Area                  10000 non-null  object \n",
      " 12  Timezone              10000 non-null  object \n",
      " 13  Job                   10000 non-null  object \n",
      " 14  Children              10000 non-null  float64\n",
      " 15  Age                   10000 non-null  float64\n",
      " 16  Education             10000 non-null  object \n",
      " 17  Employment            10000 non-null  object \n",
      " 18  Income                10000 non-null  float64\n",
      " 19  Marital               10000 non-null  object \n",
      " 20  Gender                10000 non-null  object \n",
      " 21  Churn                 10000 non-null  object \n",
      " 22  Outage_sec_perweek    10000 non-null  float64\n",
      " 23  Email                 10000 non-null  float64\n",
      " 24  Contacts              10000 non-null  float64\n",
      " 25  Yearly_equip_failure  9906 non-null   float64\n",
      " 26  Techie                10000 non-null  object \n",
      " 27  Contract              10000 non-null  object \n",
      " 28  Port_modem            10000 non-null  object \n",
      " 29  Tablet                10000 non-null  object \n",
      " 30  InternetService       10000 non-null  object \n",
      " 31  Phone                 10000 non-null  object \n",
      " 32  Multiple              10000 non-null  object \n",
      " 33  OnlineSecurity        10000 non-null  object \n",
      " 34  OnlineBackup          10000 non-null  object \n",
      " 35  DeviceProtection      10000 non-null  object \n",
      " 36  TechSupport           10000 non-null  object \n",
      " 37  StreamingTV           10000 non-null  object \n",
      " 38  StreamingMovies       10000 non-null  object \n",
      " 39  PaperlessBilling      10000 non-null  object \n",
      " 40  PaymentMethod         10000 non-null  object \n",
      " 41  Tenure                10000 non-null  float64\n",
      " 42  MonthlyCharge         9997 non-null   float64\n",
      " 43  Bandwidth_GB_Year     10000 non-null  float64\n",
      " 44  item1                 10000 non-null  int64  \n",
      " 45  item2                 10000 non-null  int64  \n",
      " 46  item3                 10000 non-null  int64  \n",
      " 47  item4                 10000 non-null  int64  \n",
      " 48  item5                 10000 non-null  int64  \n",
      " 49  item6                 10000 non-null  int64  \n",
      " 50  item7                 10000 non-null  int64  \n",
      " 51  item8                 10000 non-null  int64  \n",
      " 52  Z_Score_Children      10000 non-null  float64\n",
      " 53  Z_Score_Age           10000 non-null  float64\n",
      " 54  Z_Score_Income        10000 non-null  float64\n",
      "dtypes: float64(15), int64(12), object(28)\n",
      "memory usage: 4.2+ MB\n"
     ]
    }
   ],
   "source": [
    "df['MonthlyCharge'] = np.where(df['MonthlyCharge'] > 300, np.nan, df['MonthlyCharge'])\n",
    "df.info()"
   ]
  },
  {
   "cell_type": "code",
   "execution_count": 43,
   "id": "9f71c4fb",
   "metadata": {},
   "outputs": [
    {
     "data": {
      "image/png": "[encoded data removed]",
      "text/plain": [
       "<Figure size 640x480 with 1 Axes>"
      ]
     },
     "metadata": {},
     "output_type": "display_data"
    }
   ],
   "source": [
    "boxplot = seaborn.boxplot(x = 'MonthlyCharge', data = df)"
   ]
  },
  {
   "cell_type": "code",
   "execution_count": 44,
   "id": "933581ee",
   "metadata": {},
   "outputs": [
    {
     "data": {
      "image/png": "[encoded data removed]",
      "text/plain": [
       "<Figure size 640x480 with 1 Axes>"
      ]
     },
     "metadata": {},
     "output_type": "display_data"
    }
   ],
   "source": [
    "#boxplot outliers for Bandwidth_GB_Year\n",
    "boxplot = seaborn.boxplot(x = 'Bandwidth_GB_Year', data = df)"
   ]
  },
  {
   "cell_type": "code",
   "execution_count": 45,
   "id": "26b510c5",
   "metadata": {},
   "outputs": [],
   "source": [
    "#select columns for PCA\n",
    "PCA1 = df[['Income', 'Outage_sec_perweek', 'Tenure', 'MonthlyCharge', 'Bandwidth_GB_Year' ]]"
   ]
  },
  {
   "cell_type": "code",
   "execution_count": 46,
   "id": "6433c8bb",
   "metadata": {},
   "outputs": [],
   "source": [
    "#normalize the data\n",
    "PCA1_normalized = (PCA1 - PCA1.mean())/PCA1.std()"
   ]
  },
  {
   "cell_type": "code",
   "execution_count": 47,
   "id": "1dbebc8a",
   "metadata": {},
   "outputs": [],
   "source": [
    "imputer = SimpleImputer(strategy='mean') \n",
    "PCA1_normalized2 = imputer.fit_transform(PCA1_normalized)"
   ]
  },
  {
   "cell_type": "code",
   "execution_count": 48,
   "id": "45dea15f",
   "metadata": {},
   "outputs": [
    {
     "name": "stdout",
     "output_type": "stream",
     "text": [
      "PCA(n_components=5)\n"
     ]
    }
   ],
   "source": [
    "#apply PCA\n",
    "pca = PCA(n_components = PCA1.shape[1])\n",
    "print(pca)"
   ]
  },
  {
   "cell_type": "code",
   "execution_count": 49,
   "id": "1d8fc1ca",
   "metadata": {},
   "outputs": [
    {
     "data": {
      "text/html": [
       "<style>#sk-container-id-1 {color: black;}#sk-container-id-1 pre{padding: 0;}#sk-container-id-1 div.sk-toggleable {background-color: white;}#sk-container-id-1 label.sk-toggleable__label {cursor: pointer;display: block;width: 100%;margin-bottom: 0;padding: 0.3em;box-sizing: border-box;text-align: center;}#sk-container-id-1 label.sk-toggleable__label-arrow:before {content: \"▸\";float: left;margin-right: 0.25em;color: #696969;}#sk-container-id-1 label.sk-toggleable__label-arrow:hover:before {color: black;}#sk-container-id-1 div.sk-estimator:hover label.sk-toggleable__label-arrow:before {color: black;}#sk-container-id-1 div.sk-toggleable__content {max-height: 0;max-width: 0;overflow: hidden;text-align: left;background-color: #f0f8ff;}#sk-container-id-1 div.sk-toggleable__content pre {margin: 0.2em;color: black;border-radius: 0.25em;background-color: #f0f8ff;}#sk-container-id-1 input.sk-toggleable__control:checked~div.sk-toggleable__content {max-height: 200px;max-width: 100%;overflow: auto;}#sk-container-id-1 input.sk-toggleable__control:checked~label.sk-toggleable__label-arrow:before {content: \"▾\";}#sk-container-id-1 div.sk-estimator input.sk-toggleable__control:checked~label.sk-toggleable__label {background-color: #d4ebff;}#sk-container-id-1 div.sk-label input.sk-toggleable__control:checked~label.sk-toggleable__label {background-color: #d4ebff;}#sk-container-id-1 input.sk-hidden--visually {border: 0;clip: rect(1px 1px 1px 1px);clip: rect(1px, 1px, 1px, 1px);height: 1px;margin: -1px;overflow: hidden;padding: 0;position: absolute;width: 1px;}#sk-container-id-1 div.sk-estimator {font-family: monospace;background-color: #f0f8ff;border: 1px dotted black;border-radius: 0.25em;box-sizing: border-box;margin-bottom: 0.5em;}#sk-container-id-1 div.sk-estimator:hover {background-color: #d4ebff;}#sk-container-id-1 div.sk-parallel-item::after {content: \"\";width: 100%;border-bottom: 1px solid gray;flex-grow: 1;}#sk-container-id-1 div.sk-label:hover label.sk-toggleable__label {background-color: #d4ebff;}#sk-container-id-1 div.sk-serial::before {content: \"\";position: absolute;border-left: 1px solid gray;box-sizing: border-box;top: 0;bottom: 0;left: 50%;z-index: 0;}#sk-container-id-1 div.sk-serial {display: flex;flex-direction: column;align-items: center;background-color: white;padding-right: 0.2em;padding-left: 0.2em;position: relative;}#sk-container-id-1 div.sk-item {position: relative;z-index: 1;}#sk-container-id-1 div.sk-parallel {display: flex;align-items: stretch;justify-content: center;background-color: white;position: relative;}#sk-container-id-1 div.sk-item::before, #sk-container-id-1 div.sk-parallel-item::before {content: \"\";position: absolute;border-left: 1px solid gray;box-sizing: border-box;top: 0;bottom: 0;left: 50%;z-index: -1;}#sk-container-id-1 div.sk-parallel-item {display: flex;flex-direction: column;z-index: 1;position: relative;background-color: white;}#sk-container-id-1 div.sk-parallel-item:first-child::after {align-self: flex-end;width: 50%;}#sk-container-id-1 div.sk-parallel-item:last-child::after {align-self: flex-start;width: 50%;}#sk-container-id-1 div.sk-parallel-item:only-child::after {width: 0;}#sk-container-id-1 div.sk-dashed-wrapped {border: 1px dashed gray;margin: 0 0.4em 0.5em 0.4em;box-sizing: border-box;padding-bottom: 0.4em;background-color: white;}#sk-container-id-1 div.sk-label label {font-family: monospace;font-weight: bold;display: inline-block;line-height: 1.2em;}#sk-container-id-1 div.sk-label-container {text-align: center;}#sk-container-id-1 div.sk-container {/* jupyter's `normalize.less` sets `[hidden] { display: none; }` but bootstrap.min.css set `[hidden] { display: none !important; }` so we also need the `!important` here to be able to override the default hidden behavior on the sphinx rendered scikit-learn.org. See: https://github.com/scikit-learn/scikit-learn/issues/21755 */display: inline-block !important;position: relative;}#sk-container-id-1 div.sk-text-repr-fallback {display: none;}</style><div id=\"sk-container-id-1\" class=\"sk-top-container\"><div class=\"sk-text-repr-fallback\"><pre>PCA(n_components=5)</pre><b>In a Jupyter environment, please rerun this cell to show the HTML representation or trust the notebook. <br />On GitHub, the HTML representation is unable to render, please try loading this page with nbviewer.org.</b></div><div class=\"sk-container\" hidden><div class=\"sk-item\"><div class=\"sk-estimator sk-toggleable\"><input class=\"sk-toggleable__control sk-hidden--visually\" id=\"sk-estimator-id-1\" type=\"checkbox\" checked><label for=\"sk-estimator-id-1\" class=\"sk-toggleable__label sk-toggleable__label-arrow\">PCA</label><div class=\"sk-toggleable__content\"><pre>PCA(n_components=5)</pre></div></div></div></div></div>"
      ],
      "text/plain": [
       "PCA(n_components=5)"
      ]
     },
     "execution_count": 49,
     "metadata": {},
     "output_type": "execute_result"
    }
   ],
   "source": [
    "pca.fit(PCA1_normalized2)"
   ]
  },
  {
   "cell_type": "code",
   "execution_count": 50,
   "id": "a1d5a7f7",
   "metadata": {},
   "outputs": [],
   "source": [
    "PCA1_pca = pd.DataFrame(pca.transform(PCA1_normalized2), columns = ['PC1', 'PC2', 'PC3', 'PC4', 'PC5'])"
   ]
  },
  {
   "cell_type": "code",
   "execution_count": 51,
   "id": "35a85e31",
   "metadata": {},
   "outputs": [
    {
     "data": {
      "text/html": [
       "<div>\n",
       "<style scoped>\n",
       "    .dataframe tbody tr th:only-of-type {\n",
       "        vertical-align: middle;\n",
       "    }\n",
       "\n",
       "    .dataframe tbody tr th {\n",
       "        vertical-align: top;\n",
       "    }\n",
       "\n",
       "    .dataframe thead th {\n",
       "        text-align: right;\n",
       "    }\n",
       "</style>\n",
       "<table border=\"1\" class=\"dataframe\">\n",
       "  <thead>\n",
       "    <tr style=\"text-align: right;\">\n",
       "      <th></th>\n",
       "      <th>PC1</th>\n",
       "      <th>PC2</th>\n",
       "      <th>PC3</th>\n",
       "      <th>PC4</th>\n",
       "      <th>PC5</th>\n",
       "    </tr>\n",
       "  </thead>\n",
       "  <tbody>\n",
       "    <tr>\n",
       "      <th>Income</th>\n",
       "      <td>0.004825</td>\n",
       "      <td>0.085733</td>\n",
       "      <td>0.995136</td>\n",
       "      <td>-0.048273</td>\n",
       "      <td>0.000779</td>\n",
       "    </tr>\n",
       "    <tr>\n",
       "      <th>Outage_sec_perweek</th>\n",
       "      <td>0.020861</td>\n",
       "      <td>0.701032</td>\n",
       "      <td>-0.094761</td>\n",
       "      <td>-0.706465</td>\n",
       "      <td>-0.006873</td>\n",
       "    </tr>\n",
       "    <tr>\n",
       "      <th>Tenure</th>\n",
       "      <td>0.705408</td>\n",
       "      <td>-0.060221</td>\n",
       "      <td>0.000760</td>\n",
       "      <td>-0.032166</td>\n",
       "      <td>-0.705505</td>\n",
       "    </tr>\n",
       "    <tr>\n",
       "      <th>MonthlyCharge</th>\n",
       "      <td>0.044938</td>\n",
       "      <td>0.705366</td>\n",
       "      <td>-0.026735</td>\n",
       "      <td>0.705317</td>\n",
       "      <td>-0.047464</td>\n",
       "    </tr>\n",
       "    <tr>\n",
       "      <th>Bandwidth_GB_Year</th>\n",
       "      <td>0.707051</td>\n",
       "      <td>-0.006018</td>\n",
       "      <td>-0.003053</td>\n",
       "      <td>0.008437</td>\n",
       "      <td>0.707080</td>\n",
       "    </tr>\n",
       "  </tbody>\n",
       "</table>\n",
       "</div>"
      ],
      "text/plain": [
       "                         PC1       PC2       PC3       PC4       PC5\n",
       "Income              0.004825  0.085733  0.995136 -0.048273  0.000779\n",
       "Outage_sec_perweek  0.020861  0.701032 -0.094761 -0.706465 -0.006873\n",
       "Tenure              0.705408 -0.060221  0.000760 -0.032166 -0.705505\n",
       "MonthlyCharge       0.044938  0.705366 -0.026735  0.705317 -0.047464\n",
       "Bandwidth_GB_Year   0.707051 -0.006018 -0.003053  0.008437  0.707080"
      ]
     },
     "execution_count": 51,
     "metadata": {},
     "output_type": "execute_result"
    }
   ],
   "source": [
    "#PCA LOADINGS\n",
    "loadings = pd.DataFrame(pca.components_.T, columns = ['PC1', 'PC2', 'PC3', 'PC4', 'PC5'], index = PCA1.columns)\n",
    "loadings"
   ]
  },
  {
   "cell_type": "code",
   "execution_count": 52,
   "id": "70822dce",
   "metadata": {},
   "outputs": [],
   "source": [
    "#SELECTING PCs\n",
    "cov_matrix = np.dot(PCA1_normalized2.T, PCA1_normalized2) / PCA1.shape[0]"
   ]
  },
  {
   "cell_type": "code",
   "execution_count": 53,
   "id": "21fe7178",
   "metadata": {},
   "outputs": [],
   "source": [
    "eigenvalues = [np.dot(eigenvector.T, np.dot(cov_matrix, eigenvector)) for eigenvector in pca.components_]"
   ]
  },
  {
   "cell_type": "code",
   "execution_count": 54,
   "id": "e3c963db",
   "metadata": {
    "scrolled": true
   },
   "outputs": [
    {
     "data": {
      "image/png": "[encoded data removed]",
      "text/plain": [
       "<Figure size 640x480 with 1 Axes>"
      ]
     },
     "metadata": {},
     "output_type": "display_data"
    }
   ],
   "source": [
    "plt.plot(np.arange(1, len(eigenvalues) + 1), eigenvalues, marker = 'o')\n",
    "plt.xlabel('number of components')\n",
    "plt.ylabel('eigenvalue')\n",
    "plt.axhline(y=1, color = \"red\")\n",
    "plt.show()"
   ]
  },
  {
   "cell_type": "code",
   "execution_count": 55,
   "id": "8102d8d1",
   "metadata": {},
   "outputs": [],
   "source": [
    "#extract clean data into CSV\n",
    "df.to_csv('C:/Users/siree/OneDrive/Desktop/WGU/D206/PA_D206_cleaned_data_SireenShaban.csv')"
   ]
  }
 ],
 "metadata": {
  "kernelspec": {
   "display_name": "Python 3 (ipykernel)",
   "language": "python",
   "name": "python3"
  },
  "language_info": {
   "codemirror_mode": {
    "name": "ipython",
    "version": 3
   },
   "file_extension": ".py",
   "mimetype": "text/x-python",
   "name": "python",
   "nbconvert_exporter": "python",
   "pygments_lexer": "ipython3",
   "version": "3.11.4"
  }
 },
 "nbformat": 4,
 "nbformat_minor": 5
}
